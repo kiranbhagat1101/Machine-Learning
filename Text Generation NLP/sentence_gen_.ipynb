{
  "nbformat": 4,
  "nbformat_minor": 0,
  "metadata": {
    "colab": {
      "name": "sentence gen .ipynb",
      "private_outputs": true,
      "provenance": [],
      "collapsed_sections": []
    },
    "kernelspec": {
      "name": "python3",
      "display_name": "Python 3"
    },
    "accelerator": "GPU"
  },
  "cells": [
    {
      "cell_type": "code",
      "metadata": {
        "id": "GqT0BJK8WG7d"
      },
      "source": [
        "#pip install simpletransformers"
      ],
      "execution_count": null,
      "outputs": []
    },
    {
      "cell_type": "code",
      "metadata": {
        "id": "ZiGpLxdHUmdJ"
      },
      "source": [
        "import logging\r\n",
        "\r\n",
        "from simpletransformers.language_modeling import (\r\n",
        "    LanguageModelingModel,\r\n",
        "    LanguageModelingArgs,\r\n",
        ")\r\n",
        "\r\n",
        "\r\n",
        "logging.basicConfig(level=logging.INFO)\r\n",
        "transformers_logger = logging.getLogger(\"transformers\")\r\n",
        "transformers_logger.setLevel(logging.WARNING)\r\n",
        "\r\n",
        "model_args = LanguageModelingArgs()\r\n",
        "model_args.reprocess_input_data = True\r\n",
        "model_args.overwrite_output_dir = True\r\n",
        "model_args.num_train_epochs = 1\r\n",
        "model_args.dataset_type = \"simple\"\r\n",
        "model_args.mlm = False  # mlm must be False for CLM\r\n",
        "\r\n",
        "train_file = \"/content/modeltxt.txt\"\r\n",
        "\r\n",
        "model = LanguageModelingModel(\r\n",
        "    \"gpt2\", \"gpt2\", args=model_args\r\n",
        ")\r\n",
        "\r\n",
        "\r\n",
        "\r\n"
      ],
      "execution_count": null,
      "outputs": []
    },
    {
      "cell_type": "code",
      "metadata": {
        "id": "VFlRsNW9NLj6"
      },
      "source": [
        "# Train the model\r\n",
        "model.train_model(train_file)"
      ],
      "execution_count": null,
      "outputs": []
    },
    {
      "cell_type": "code",
      "metadata": {
        "id": "0YUDEkuHoT3r"
      },
      "source": [
        "import logging\r\n",
        "\r\n",
        "from simpletransformers.language_generation import LanguageGenerationModel, LanguageGenerationArgs\r\n",
        "\r\n",
        "\r\n",
        "logging.basicConfig(level=logging.INFO)\r\n",
        "transformers_logger = logging.getLogger(\"transformers\")\r\n",
        "transformers_logger.setLevel(logging.WARNING)\r\n",
        "\r\n",
        "model = LanguageGenerationModel(\"gpt2\", \"/content/outputs/checkpoint-135-epoch-1\")\r\n",
        "model.generate(\"harry potter is \")"
      ],
      "execution_count": null,
      "outputs": []
    },
    {
      "cell_type": "markdown",
      "metadata": {
        "id": "6kLaYq2LNTEi"
      },
      "source": [
        ""
      ]
    },
    {
      "cell_type": "code",
      "metadata": {
        "id": "vWEHv6p--mqQ"
      },
      "source": [
        ""
      ],
      "execution_count": null,
      "outputs": []
    }
  ]
}