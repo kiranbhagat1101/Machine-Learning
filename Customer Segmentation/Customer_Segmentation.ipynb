{
 "cells": [
  {
   "cell_type": "code",
   "execution_count": 57,
   "metadata": {},
   "outputs": [],
   "source": [
    "import pandas as pd\n",
    "import numpy as np\n",
    "\n",
    "from sklearn.decomposition import PCA\n",
    "from sklearn.cluster import KMeans\n",
    "\n",
    "from sklearn.metrics import silhouette_samples, silhouette_score\n",
    "\n",
    "import matplotlib.pyplot as plt\n",
    "import matplotlib.cm as cm\n",
    "import warnings\n",
    "warnings.simplefilter(\"ignore\")"
   ]
  },
  {
   "cell_type": "code",
   "execution_count": 133,
   "metadata": {},
   "outputs": [],
   "source": [
    "df = pd.read_csv('Mall_Customers.csv')"
   ]
  },
  {
   "cell_type": "code",
   "execution_count": 26,
   "metadata": {},
   "outputs": [
    {
     "data": {
      "text/html": [
       "<div>\n",
       "<style scoped>\n",
       "    .dataframe tbody tr th:only-of-type {\n",
       "        vertical-align: middle;\n",
       "    }\n",
       "\n",
       "    .dataframe tbody tr th {\n",
       "        vertical-align: top;\n",
       "    }\n",
       "\n",
       "    .dataframe thead th {\n",
       "        text-align: right;\n",
       "    }\n",
       "</style>\n",
       "<table border=\"1\" class=\"dataframe\">\n",
       "  <thead>\n",
       "    <tr style=\"text-align: right;\">\n",
       "      <th></th>\n",
       "      <th>CustomerID</th>\n",
       "      <th>Gender</th>\n",
       "      <th>Age</th>\n",
       "      <th>Annual Income (k$)</th>\n",
       "      <th>Spending Score (1-100)</th>\n",
       "    </tr>\n",
       "  </thead>\n",
       "  <tbody>\n",
       "    <tr>\n",
       "      <th>0</th>\n",
       "      <td>1</td>\n",
       "      <td>Male</td>\n",
       "      <td>19</td>\n",
       "      <td>15</td>\n",
       "      <td>39</td>\n",
       "    </tr>\n",
       "    <tr>\n",
       "      <th>1</th>\n",
       "      <td>2</td>\n",
       "      <td>Male</td>\n",
       "      <td>21</td>\n",
       "      <td>15</td>\n",
       "      <td>81</td>\n",
       "    </tr>\n",
       "    <tr>\n",
       "      <th>2</th>\n",
       "      <td>3</td>\n",
       "      <td>Female</td>\n",
       "      <td>20</td>\n",
       "      <td>16</td>\n",
       "      <td>6</td>\n",
       "    </tr>\n",
       "    <tr>\n",
       "      <th>3</th>\n",
       "      <td>4</td>\n",
       "      <td>Female</td>\n",
       "      <td>23</td>\n",
       "      <td>16</td>\n",
       "      <td>77</td>\n",
       "    </tr>\n",
       "    <tr>\n",
       "      <th>4</th>\n",
       "      <td>5</td>\n",
       "      <td>Female</td>\n",
       "      <td>31</td>\n",
       "      <td>17</td>\n",
       "      <td>40</td>\n",
       "    </tr>\n",
       "  </tbody>\n",
       "</table>\n",
       "</div>"
      ],
      "text/plain": [
       "   CustomerID  Gender  Age  Annual Income (k$)  Spending Score (1-100)\n",
       "0           1    Male   19                  15                      39\n",
       "1           2    Male   21                  15                      81\n",
       "2           3  Female   20                  16                       6\n",
       "3           4  Female   23                  16                      77\n",
       "4           5  Female   31                  17                      40"
      ]
     },
     "execution_count": 26,
     "metadata": {},
     "output_type": "execute_result"
    }
   ],
   "source": [
    "df.head()"
   ]
  },
  {
   "cell_type": "code",
   "execution_count": 27,
   "metadata": {},
   "outputs": [
    {
     "name": "stdout",
     "output_type": "stream",
     "text": [
      "<class 'pandas.core.frame.DataFrame'>\n",
      "RangeIndex: 200 entries, 0 to 199\n",
      "Data columns (total 5 columns):\n",
      "CustomerID                200 non-null int64\n",
      "Gender                    200 non-null object\n",
      "Age                       200 non-null int64\n",
      "Annual Income (k$)        200 non-null int64\n",
      "Spending Score (1-100)    200 non-null int64\n",
      "dtypes: int64(4), object(1)\n",
      "memory usage: 7.9+ KB\n"
     ]
    }
   ],
   "source": [
    "df.info()"
   ]
  },
  {
   "cell_type": "code",
   "execution_count": 134,
   "metadata": {},
   "outputs": [],
   "source": [
    "cust_id = df['CustomerID']"
   ]
  },
  {
   "cell_type": "code",
   "execution_count": 28,
   "metadata": {},
   "outputs": [],
   "source": [
    "df['Gender'] = df['Gender'].replace(['Female','Male'],[0,1])\n",
    "df = df.drop(columns=['CustomerID'])"
   ]
  },
  {
   "cell_type": "code",
   "execution_count": 6,
   "metadata": {},
   "outputs": [],
   "source": [
    "import matplotlib.pyplot as plt"
   ]
  },
  {
   "cell_type": "code",
   "execution_count": 21,
   "metadata": {},
   "outputs": [
    {
     "data": {
      "text/plain": [
       "array([[<matplotlib.axes._subplots.AxesSubplot object at 0x1a20830748>,\n",
       "        <matplotlib.axes._subplots.AxesSubplot object at 0x1a20cd93c8>],\n",
       "       [<matplotlib.axes._subplots.AxesSubplot object at 0x1a20cfd940>,\n",
       "        <matplotlib.axes._subplots.AxesSubplot object at 0x1a20d24eb8>]],\n",
       "      dtype=object)"
      ]
     },
     "execution_count": 21,
     "metadata": {},
     "output_type": "execute_result"
    },
    {
     "data": {
      "image/png": "[encoded data removed]",
      "text/plain": [
       "<Figure size 1008x1008 with 4 Axes>"
      ]
     },
     "metadata": {
      "needs_background": "light"
     },
     "output_type": "display_data"
    }
   ],
   "source": [
    "df.hist(bins=10,figsize=(14,14))"
   ]
  },
  {
   "cell_type": "code",
   "execution_count": 29,
   "metadata": {},
   "outputs": [],
   "source": [
    "df1 = df.copy()"
   ]
  },
  {
   "cell_type": "code",
   "execution_count": 30,
   "metadata": {},
   "outputs": [],
   "source": [
    "df1.loc[(df1['Age'] >= 18) & (df1['Age'] < 25), 'Age'] = 20\n",
    "df1.loc[(df1['Age'] >= 25) & (df1['Age'] < 30), 'Age'] = 25\n",
    "df1.loc[(df1['Age'] >= 30) & (df1['Age'] < 35), 'Age'] = 30\n",
    "df1.loc[(df1['Age'] >= 35) & (df1['Age'] < 40), 'Age'] = 35\n",
    "df1.loc[(df1['Age'] >= 40) & (df1['Age'] < 45), 'Age'] = 40\n",
    "df1.loc[(df1['Age'] >= 45) & (df1['Age'] < 50), 'Age'] = 45\n",
    "df1.loc[(df1['Age'] >= 50) & (df1['Age'] < 55), 'Age'] = 50\n",
    "df1.loc[(df1['Age'] >= 55) & (df1['Age'] < 60), 'Age'] = 55\n",
    "df1.loc[(df1['Age'] >= 60) & (df1['Age'] < 65), 'Age'] = 60\n",
    "df1.loc[(df1['Age'] >= 65) & (df1['Age'] < 70), 'Age'] = 65\n",
    "df1.loc[(df1['Age'] >= 70), 'Age'] = 65"
   ]
  },
  {
   "cell_type": "code",
   "execution_count": 94,
   "metadata": {},
   "outputs": [],
   "source": [
    "df1.loc[(df1['Spending Score (1-100)'] >= 1) & (df1['Spending Score (1-100)'] < 5), 'Spending Score (1-100)'] = 1\n",
    "df1.loc[(df1['Spending Score (1-100)'] >= 5) & (df1['Spending Score (1-100)'] < 10), 'Spending Score (1-100)'] = 5\n",
    "df1.loc[(df1['Spending Score (1-100)'] >= 10) & (df1['Spending Score (1-100)'] < 15), 'Spending Score (1-100)'] = 10\n",
    "df1.loc[(df1['Spending Score (1-100)'] >= 15) & (df1['Spending Score (1-100)'] < 20), 'Spending Score (1-100)'] = 15\n",
    "df1.loc[(df1['Spending Score (1-100)'] >= 20) & (df1['Spending Score (1-100)'] < 25), 'Spending Score (1-100)'] = 20\n",
    "df1.loc[(df1['Spending Score (1-100)'] >= 25) & (df1['Spending Score (1-100)'] < 30), 'Spending Score (1-100)'] = 25\n",
    "df1.loc[(df1['Spending Score (1-100)'] >= 30) & (df1['Spending Score (1-100)'] < 35), 'Spending Score (1-100)'] = 30\n",
    "df1.loc[(df1['Spending Score (1-100)'] >= 35) & (df1['Spending Score (1-100)'] < 40), 'Spending Score (1-100)'] = 35\n",
    "df1.loc[(df1['Spending Score (1-100)'] >= 40) & (df1['Spending Score (1-100)'] < 45), 'Spending Score (1-100)'] = 40\n",
    "df1.loc[(df1['Spending Score (1-100)'] >= 45) & (df1['Spending Score (1-100)'] < 50), 'Spending Score (1-100)'] = 45\n",
    "df1.loc[(df1['Spending Score (1-100)'] >= 50) & (df1['Spending Score (1-100)'] < 55), 'Spending Score (1-100)'] = 50\n",
    "df1.loc[(df1['Spending Score (1-100)'] >= 55) & (df1['Spending Score (1-100)'] < 60), 'Spending Score (1-100)'] = 55\n",
    "df1.loc[(df1['Spending Score (1-100)'] >= 60) & (df1['Spending Score (1-100)'] < 65), 'Spending Score (1-100)'] = 60\n",
    "df1.loc[(df1['Spending Score (1-100)'] >= 65) & (df1['Spending Score (1-100)'] < 70), 'Spending Score (1-100)'] = 65\n",
    "df1.loc[(df1['Spending Score (1-100)'] >= 70) & (df1['Spending Score (1-100)'] < 75), 'Spending Score (1-100)'] = 70\n",
    "df1.loc[(df1['Spending Score (1-100)'] >= 75) & (df1['Spending Score (1-100)'] < 80), 'Spending Score (1-100)'] = 75\n",
    "df1.loc[(df1['Spending Score (1-100)'] >= 80) & (df1['Spending Score (1-100)'] < 85), 'Spending Score (1-100)'] = 80\n",
    "df1.loc[(df1['Spending Score (1-100)'] >= 85) & (df1['Spending Score (1-100)'] < 90), 'Spending Score (1-100)'] = 85\n",
    "df1.loc[(df1['Spending Score (1-100)'] >= 90) & (df1['Spending Score (1-100)'] < 95), 'Spending Score (1-100)'] = 90\n",
    "df1.loc[(df1['Spending Score (1-100)'] >= 95) & (df1['Spending Score (1-100)'] < 100), 'Spending Score (1-100)'] = 95\n",
    "df1.loc[(df1['Spending Score (1-100)'] >= 100) , 'Spending Score (1-100)'] = 100"
   ]
  },
  {
   "cell_type": "code",
   "execution_count": 98,
   "metadata": {},
   "outputs": [
    {
     "data": {
      "text/plain": [
       "[<matplotlib.lines.Line2D at 0x1a22bb1dd8>]"
      ]
     },
     "execution_count": 98,
     "metadata": {},
     "output_type": "execute_result"
    },
    {
     "data": {
      "image/png": "[encoded data removed]",
      "text/plain": [
       "<Figure size 720x720 with 1 Axes>"
      ]
     },
     "metadata": {
      "needs_background": "light"
     },
     "output_type": "display_data"
    }
   ],
   "source": [
    "plt.figure(figsize=(10,10))\n",
    "plt.plot(df1['Age'],df['Annual Income (k$)'],'r+')"
   ]
  },
  {
   "cell_type": "code",
   "execution_count": 99,
   "metadata": {},
   "outputs": [
    {
     "data": {
      "image/png": "[encoded data removed]",
      "text/plain": [
       "<Figure size 432x288 with 1 Axes>"
      ]
     },
     "metadata": {
      "needs_background": "light"
     },
     "output_type": "display_data"
    }
   ],
   "source": [
    "temp = df1.groupby('Age').mean()\n",
    "plt.plot(temp.index,temp['Annual Income (k$)'],'g-',marker='o',label=\"Mean Annual Income\")\n",
    "plt.plot(temp.index,temp['Spending Score (1-100)'],'r-',marker='o',label=\"Mean Spending Score\")\n",
    "\n",
    "\n",
    "plt.legend(loc=0)\n",
    "plt.xlabel(\"Age\");\n",
    "plt.ylabel(\"Mean Income and Score\");\n",
    "plt.xticks(temp.index);\n",
    "plt.title(\"Score vs Income\");"
   ]
  },
  {
   "cell_type": "code",
   "execution_count": 100,
   "metadata": {},
   "outputs": [
    {
     "data": {
      "text/html": [
       "<div>\n",
       "<style scoped>\n",
       "    .dataframe tbody tr th:only-of-type {\n",
       "        vertical-align: middle;\n",
       "    }\n",
       "\n",
       "    .dataframe tbody tr th {\n",
       "        vertical-align: top;\n",
       "    }\n",
       "\n",
       "    .dataframe thead th {\n",
       "        text-align: right;\n",
       "    }\n",
       "</style>\n",
       "<table border=\"1\" class=\"dataframe\">\n",
       "  <thead>\n",
       "    <tr style=\"text-align: right;\">\n",
       "      <th></th>\n",
       "      <th>Gender</th>\n",
       "      <th>Annual Income (k$)</th>\n",
       "      <th>Spending Score (1-100)</th>\n",
       "    </tr>\n",
       "  </thead>\n",
       "  <tbody>\n",
       "    <tr>\n",
       "      <th>Gender</th>\n",
       "      <td>1.000000</td>\n",
       "      <td>-0.324483</td>\n",
       "      <td>-0.080560</td>\n",
       "    </tr>\n",
       "    <tr>\n",
       "      <th>Annual Income (k$)</th>\n",
       "      <td>-0.324483</td>\n",
       "      <td>1.000000</td>\n",
       "      <td>0.267387</td>\n",
       "    </tr>\n",
       "    <tr>\n",
       "      <th>Spending Score (1-100)</th>\n",
       "      <td>-0.080560</td>\n",
       "      <td>0.267387</td>\n",
       "      <td>1.000000</td>\n",
       "    </tr>\n",
       "  </tbody>\n",
       "</table>\n",
       "</div>"
      ],
      "text/plain": [
       "                          Gender  Annual Income (k$)  Spending Score (1-100)\n",
       "Gender                  1.000000           -0.324483               -0.080560\n",
       "Annual Income (k$)     -0.324483            1.000000                0.267387\n",
       "Spending Score (1-100) -0.080560            0.267387                1.000000"
      ]
     },
     "execution_count": 100,
     "metadata": {},
     "output_type": "execute_result"
    }
   ],
   "source": [
    "temp.corr()"
   ]
  },
  {
   "cell_type": "code",
   "execution_count": 62,
   "metadata": {},
   "outputs": [
    {
     "data": {
      "text/html": [
       "<div>\n",
       "<style scoped>\n",
       "    .dataframe tbody tr th:only-of-type {\n",
       "        vertical-align: middle;\n",
       "    }\n",
       "\n",
       "    .dataframe tbody tr th {\n",
       "        vertical-align: top;\n",
       "    }\n",
       "\n",
       "    .dataframe thead th {\n",
       "        text-align: right;\n",
       "    }\n",
       "</style>\n",
       "<table border=\"1\" class=\"dataframe\">\n",
       "  <thead>\n",
       "    <tr style=\"text-align: right;\">\n",
       "      <th></th>\n",
       "      <th>Gender</th>\n",
       "      <th>Age</th>\n",
       "      <th>Annual Income (k$)</th>\n",
       "      <th>Spending Score (1-100)</th>\n",
       "    </tr>\n",
       "  </thead>\n",
       "  <tbody>\n",
       "    <tr>\n",
       "      <th>0</th>\n",
       "      <td>1</td>\n",
       "      <td>20</td>\n",
       "      <td>15</td>\n",
       "      <td>39</td>\n",
       "    </tr>\n",
       "    <tr>\n",
       "      <th>1</th>\n",
       "      <td>1</td>\n",
       "      <td>20</td>\n",
       "      <td>15</td>\n",
       "      <td>81</td>\n",
       "    </tr>\n",
       "    <tr>\n",
       "      <th>2</th>\n",
       "      <td>0</td>\n",
       "      <td>20</td>\n",
       "      <td>16</td>\n",
       "      <td>6</td>\n",
       "    </tr>\n",
       "    <tr>\n",
       "      <th>3</th>\n",
       "      <td>0</td>\n",
       "      <td>20</td>\n",
       "      <td>16</td>\n",
       "      <td>77</td>\n",
       "    </tr>\n",
       "    <tr>\n",
       "      <th>4</th>\n",
       "      <td>0</td>\n",
       "      <td>30</td>\n",
       "      <td>17</td>\n",
       "      <td>40</td>\n",
       "    </tr>\n",
       "  </tbody>\n",
       "</table>\n",
       "</div>"
      ],
      "text/plain": [
       "   Gender  Age  Annual Income (k$)  Spending Score (1-100)\n",
       "0       1   20                  15                      39\n",
       "1       1   20                  15                      81\n",
       "2       0   20                  16                       6\n",
       "3       0   20                  16                      77\n",
       "4       0   30                  17                      40"
      ]
     },
     "execution_count": 62,
     "metadata": {},
     "output_type": "execute_result"
    }
   ],
   "source": [
    "df1.head(5)"
   ]
  },
  {
   "cell_type": "code",
   "execution_count": 64,
   "metadata": {},
   "outputs": [
    {
     "name": "stdout",
     "output_type": "stream",
     "text": [
      "For n_clusters = 2 The average silhouette_score is : 0.2929534834494375\n",
      "For n_clusters = 3 The average silhouette_score is : 0.3879031862129477\n",
      "For n_clusters = 4 The average silhouette_score is : 0.41715844512445455\n",
      "For n_clusters = 5 The average silhouette_score is : 0.44905370979081755\n",
      "For n_clusters = 6 The average silhouette_score is : 0.45257410358142364\n",
      "For n_clusters = 7 The average silhouette_score is : 0.4404917925169596\n",
      "For n_clusters = 8 The average silhouette_score is : 0.4336675267428646\n"
     ]
    },
    {
     "data": {
      "image/png": "[encoded data removed]",
      "text/plain": [
       "<Figure size 1008x504 with 2 Axes>"
      ]
     },
     "metadata": {
      "needs_background": "light"
     },
     "output_type": "display_data"
    }
   ],
   "source": [
    "#Doing a silhoutte and elbow analysis to find the optimal number of clusters\n",
    "\"\"\"\n",
    "The Silhouette Coefficient is calculated using the mean intra-cluster distance (a) and the \n",
    "mean nearest-cluster distance (b) for each sample. The Silhouette Coefficient for a sample is (b - a) / max(a, b). \n",
    "To clarify, b is the distance between a sample and the nearest cluster that the sample is not a part of. \n",
    "Note that Silhouette Coefficient is only defined if number of labels is 2 <= n_labels <= n_samples - 1.\n",
    "\n",
    "Elbow Criterion Method:\n",
    "\n",
    "The idea behind elbow method is to run k-means clustering on a given dataset for a \n",
    "range of values of k (num_clusters, e.g k=1 to 10), and for each value of k, \n",
    "calculate sum of squared errors (SSE).\n",
    "After that, plot a line graph of the SSE for each value of k. If the line graph looks like an \n",
    "arm - a red circle in below line graph (like angle), the \"elbow\" on the arm is the value of optimal k \n",
    "(number of cluster). Here, we want to minimize SSE. SSE tends to decrease toward 0 as we increase k \n",
    "(and SSE is 0 when k is equal to the number of data points in the dataset, because then each data point \n",
    "is its own cluster, and there is no error between it and the center of its cluster).\n",
    "\n",
    "So the goal is to choose a small value of k that still has a low SSE, and the elbow usually represents \n",
    "where we start to have diminishing returns by increasing k.\n",
    "\n",
    "\n",
    "\"\"\"\n",
    "range_n_clusters = [2, 3, 4, 5, 6,7,8]\n",
    "elbow = []\n",
    "ss = []\n",
    "for n_clusters in range_n_clusters:\n",
    "    clusterer = KMeans(n_clusters = n_clusters, random_state=42)\n",
    "    cluster_labels = clusterer.fit_predict(df1)\n",
    "    \n",
    "    silhouette_avg = silhouette_score(df1, cluster_labels)\n",
    "    ss.append(silhouette_avg)\n",
    "    print(\"For n_clusters =\", n_clusters,\n",
    "          \"The average silhouette_score is :\", silhouette_avg)\n",
    "\n",
    "    elbow.append(clusterer.inertia_) # Inertia: Sum of distances of samples to their closest cluster center\n",
    "\n",
    "    \n",
    "fig = plt.figure(figsize=(14,7))\n",
    "fig.add_subplot(121)\n",
    "plt.plot(range_n_clusters, elbow,'b-',label='Sum of squared error')\n",
    "plt.xlabel(\"Number of cluster\")\n",
    "plt.ylabel(\"SSE\")\n",
    "plt.legend()\n",
    "\n",
    "fig.add_subplot(122)\n",
    "plt.plot(range_n_clusters, ss,'b-',label='Silhouette Score')\n",
    "plt.xlabel(\"Number of cluster\")\n",
    "plt.ylabel(\"Silhouette Score\")\n",
    "plt.legend()\n",
    "plt.show()"
   ]
  },
  {
   "cell_type": "code",
   "execution_count": 104,
   "metadata": {},
   "outputs": [
    {
     "name": "stderr",
     "output_type": "stream",
     "text": [
      "No handles with labels found to put in legend.\n",
      "No handles with labels found to put in legend.\n",
      "No handles with labels found to put in legend.\n"
     ]
    },
    {
     "data": {
      "image/png": "[encoded data removed]",
      "text/plain": [
       "<Figure size 1440x432 with 3 Axes>"
      ]
     },
     "metadata": {
      "needs_background": "light"
     },
     "output_type": "display_data"
    }
   ],
   "source": [
    "#Let's decompose this data using PCA to find out which one is better\n",
    "# Let's see how data clusters for cluster 3, 5, and 6\n",
    "pca = PCA(n_components=2).fit(df1)\n",
    "df1_decomposed = pca.transform(df1)\n",
    "\n",
    "fig, (ax1, ax2, ax3) = plt.subplots(ncols=3, figsize=(20,6))\n",
    "\n",
    "color = ['blue','red','green']\n",
    "marker = ['^', 's', 'o']\n",
    "clusterer = KMeans(n_clusters = 3, random_state=42)\n",
    "cluster_labels = clusterer.fit_predict(df1)\n",
    "for i in range(len(cluster_labels)):\n",
    "    l = cluster_labels[i]\n",
    "    ax1.scatter(df1_decomposed[i,0], df1_decomposed[i,1],\n",
    "    color=color[l],\n",
    "    #label='class %s' %l,\n",
    "    alpha=0.5,\n",
    "    marker=marker[l]\n",
    "    )\n",
    "\n",
    "color = ['blue','red','green','magenta','black']\n",
    "marker = ['^', 's', 'o','x','p']\n",
    "clusterer = KMeans(n_clusters = 5, random_state=42)\n",
    "cluster_labels = clusterer.fit_predict(df1)\n",
    "for i in range(len(cluster_labels)):\n",
    "    l = cluster_labels[i]\n",
    "    ax2.scatter(df1_decomposed[i,0], df1_decomposed[i,1],\n",
    "    color=color[l],\n",
    "    #label='class %s' %l,\n",
    "    alpha=0.5,\n",
    "    marker=marker[l]\n",
    "    )\n",
    "\n",
    "color = ['blue', 'red', 'green','magenta', 'black','cyan']\n",
    "marker = ['^', 's', 'o','x','p','*']\n",
    "clusterer = KMeans(n_clusters = 6, random_state=42)\n",
    "cluster_labels = clusterer.fit_predict(df1)\n",
    "for i in range(len(cluster_labels)):\n",
    "    l = cluster_labels[i]\n",
    "    ax3.scatter(df1_decomposed[i,0], df1_decomposed[i,1],\n",
    "    color=color[l],\n",
    "    #label='class %s' %l,\n",
    "    alpha=0.5,\n",
    "    marker=marker[l]\n",
    "    )\n",
    "    \n",
    "ax1.set_title('Visualization of 3 clusters after 2d transformation using PCA')    \n",
    "ax2.set_title('Visualization of 5 clusters after 2d transformation using PCA')    \n",
    "ax3.set_title('Visualization of 6 clusters after 2d transformation using PCA')    \n",
    "\n",
    "\n",
    "for ax in (ax1, ax2, ax3):\n",
    "    ax.set_xlabel('1st principal component')\n",
    "    ax.set_ylabel('2nd principal component')\n",
    "    ax.legend(loc='upper right')\n",
    "    ax.grid()\n",
    "plt.tight_layout()\n",
    "plt.show()  "
   ]
  },
  {
   "cell_type": "raw",
   "metadata": {},
   "source": [
    "Here we can see that as per SSE (elbow) and Silhouette Score 6 is the optimal number of cluster but as we can see in the above visualization of the graphs (2d decomposition of data using PCA) 6 merges 2 cluster and actually data has 5 clusters. So we should never directly take the cluster suggested by highest Silhouette and lowest SSE (elbow joint) we should always visualize and look around."
   ]
  },
  {
   "cell_type": "raw",
   "metadata": {},
   "source": [
    "So according to the segmentation done, we can classify all customers into 5 different groups based on their Age, Spending Score and their Gender."
   ]
  },
  {
   "cell_type": "code",
   "execution_count": 105,
   "metadata": {},
   "outputs": [],
   "source": [
    "#Accordingly a strategy needs to be devised for different customers"
   ]
  },
  {
   "cell_type": "code",
   "execution_count": 107,
   "metadata": {},
   "outputs": [],
   "source": [
    "clusterer = KMeans(n_clusters = 5, random_state=42)\n",
    "cluster_labels = clusterer.fit_predict(df1)\n",
    "df1['cluster_label'] = cluster_labels\n",
    "df1['cluster_label'] = df1['cluster_label']+1"
   ]
  },
  {
   "cell_type": "code",
   "execution_count": 124,
   "metadata": {},
   "outputs": [
    {
     "name": "stdout",
     "output_type": "stream",
     "text": [
      "                 Gender        Age  Annual Income (k$)  Spending Score (1-100)\n",
      "cluster_label                                                                 \n",
      "1              0.391304  24.130435           26.304348               76.521739\n",
      "\n",
      "\n",
      "############################################################################\n",
      "\n",
      "\n",
      "       Gender  Annual Income (k$)  Spending Score (1-100)  cluster_label\n",
      "Age                                                                     \n",
      "20   0.357143           26.142857               77.857143              1\n",
      "25   1.000000           26.000000               75.000000              1\n",
      "30   0.250000           29.250000               67.500000              1\n",
      "35   0.333333           23.333333               83.333333              1\n",
      "\n",
      "\n",
      "############################################################################\n",
      "\n",
      "\n",
      "                          Gender        Age  Annual Income (k$)  cluster_label\n",
      "Spending Score (1-100)                                                        \n",
      "60                      0.500000  32.500000           33.500000              1\n",
      "65                      0.500000  20.000000           30.000000              1\n",
      "70                      0.400000  27.000000           26.400000              1\n",
      "75                      0.200000  20.000000           22.000000              1\n",
      "80                      0.666667  21.666667           25.333333              1\n",
      "85                      0.000000  20.000000           29.000000              1\n",
      "90                      0.666667  20.000000           29.666667              1\n",
      "95                      0.000000  35.000000           21.000000              1\n",
      "\n",
      "\n",
      "############################################################################\n",
      "\n",
      "\n",
      "              Age  Annual Income (k$)  Spending Score (1-100)  cluster_label\n",
      "Gender                                                                      \n",
      "0       24.285714           26.642857               77.142857              1\n",
      "1       23.888889           25.777778               75.555556              1\n",
      "\n",
      "\n",
      "############################################################################\n",
      "\n",
      "\n"
     ]
    }
   ],
   "source": [
    "print(df1[df1['cluster_label']==1].groupby('cluster_label').mean())\n",
    "print(\"\\n\\n############################################################################\\n\\n\")\n",
    "print(df1[df1['cluster_label']==1].groupby('Age').mean())\n",
    "print(\"\\n\\n############################################################################\\n\\n\")\n",
    "print(df1[df1['cluster_label']==1].groupby('Spending Score (1-100)').mean())\n",
    "print(\"\\n\\n############################################################################\\n\\n\")\n",
    "print(df1[df1['cluster_label']==1].groupby('Gender').mean())\n",
    "print(\"\\n\\n############################################################################\\n\\n\")"
   ]
  },
  {
   "cell_type": "code",
   "execution_count": 129,
   "metadata": {},
   "outputs": [
    {
     "name": "stdout",
     "output_type": "stream",
     "text": [
      "                 Gender        Age  Annual Income (k$)  Spending Score (1-100)\n",
      "cluster_label                                                                 \n",
      "2              0.417722  41.265823           55.291139               47.848101\n",
      "\n",
      "\n",
      "############################################################################\n",
      "\n",
      "\n",
      "       Gender  Annual Income (k$)  Spending Score (1-100)  cluster_label\n",
      "Age                                                                     \n",
      "20   0.466667           57.866667               48.666667              2\n",
      "25   0.375000           55.625000               48.125000              2\n",
      "30   0.166667           48.500000               49.166667              2\n",
      "35   0.333333           61.666667               45.000000              2\n",
      "40   0.400000           60.400000               45.000000              2\n",
      "45   0.384615           55.384615               45.384615              2\n",
      "50   0.222222           52.777778               48.333333              2\n",
      "55   0.750000           52.000000               52.500000              2\n",
      "60   0.250000           53.250000               47.500000              2\n",
      "65   0.666667           55.083333               48.750000              2\n",
      "\n",
      "\n",
      "############################################################################\n",
      "\n",
      "\n",
      "                          Gender        Age  Annual Income (k$)  cluster_label\n",
      "Spending Score (1-100)                                                        \n",
      "35                      1.000000  40.000000           71.000000              2\n",
      "40                      0.263158  39.210526           57.894737              2\n",
      "45                      0.526316  44.473684           54.578947              2\n",
      "50                      0.294118  39.705882           53.411765              2\n",
      "55                      0.500000  42.000000           55.450000              2\n",
      "60                      0.666667  38.333333           47.666667              2\n",
      "\n",
      "\n",
      "############################################################################\n",
      "\n",
      "\n",
      "              Age  Annual Income (k$)  Spending Score (1-100)  cluster_label\n",
      "Gender                                                                      \n",
      "0       39.782609           55.347826               47.282609              2\n",
      "1       43.333333           55.212121               48.636364              2\n",
      "\n",
      "\n",
      "############################################################################\n",
      "\n",
      "\n"
     ]
    }
   ],
   "source": [
    "print(df1[df1['cluster_label']==2].groupby('cluster_label').mean())\n",
    "print(\"\\n\\n############################################################################\\n\\n\")\n",
    "print(df1[df1['cluster_label']==2].groupby('Age').mean())\n",
    "print(\"\\n\\n############################################################################\\n\\n\")\n",
    "print(df1[df1['cluster_label']==2].groupby('Spending Score (1-100)').mean())\n",
    "print(\"\\n\\n############################################################################\\n\\n\")\n",
    "print(df1[df1['cluster_label']==2].groupby('Gender').mean())\n",
    "print(\"\\n\\n############################################################################\\n\\n\")"
   ]
  },
  {
   "cell_type": "code",
   "execution_count": 130,
   "metadata": {},
   "outputs": [
    {
     "name": "stdout",
     "output_type": "stream",
     "text": [
      "                 Gender    Age  Annual Income (k$)  Spending Score (1-100)\n",
      "cluster_label                                                             \n",
      "3              0.527778  38.75               87.75               15.888889\n",
      "\n",
      "\n",
      "############################################################################\n",
      "\n",
      "\n",
      "       Gender  Annual Income (k$)  Spending Score (1-100)  cluster_label\n",
      "Age                                                                     \n",
      "20   0.750000           74.500000               11.250000              3\n",
      "25   0.500000           74.500000               20.000000              3\n",
      "30   0.600000          101.800000               12.200000              3\n",
      "35   0.500000           87.250000               16.500000              3\n",
      "40   0.428571           86.285714               17.142857              3\n",
      "45   0.500000           95.000000               18.333333              3\n",
      "50   0.333333           91.333333               18.333333              3\n",
      "55   0.600000           81.200000               15.000000              3\n",
      "\n",
      "\n",
      "############################################################################\n",
      "\n",
      "\n",
      "                          Gender        Age  Annual Income (k$)  cluster_label\n",
      "Spending Score (1-100)                                                        \n",
      "1                       1.000000  32.500000           78.000000              3\n",
      "5                       0.666667  35.000000           81.000000              3\n",
      "10                      0.857143  40.000000           82.428571              3\n",
      "15                      0.571429  42.857143          100.285714              3\n",
      "20                      0.200000  38.000000           89.200000              3\n",
      "25                      0.250000  37.500000           92.000000              3\n",
      "30                      0.000000  30.000000           84.500000              3\n",
      "35                      0.333333  46.666667           85.000000              3\n",
      "\n",
      "\n",
      "############################################################################\n",
      "\n",
      "\n",
      "              Age  Annual Income (k$)  Spending Score (1-100)  cluster_label\n",
      "Gender                                                                      \n",
      "0       40.000000           89.823529               20.588235              3\n",
      "1       37.631579           85.894737               11.684211              3\n",
      "\n",
      "\n",
      "############################################################################\n",
      "\n",
      "\n"
     ]
    }
   ],
   "source": [
    "print(df1[df1['cluster_label']==3].groupby('cluster_label').mean())\n",
    "print(\"\\n\\n############################################################################\\n\\n\")\n",
    "print(df1[df1['cluster_label']==3].groupby('Age').mean())\n",
    "print(\"\\n\\n############################################################################\\n\\n\")\n",
    "print(df1[df1['cluster_label']==3].groupby('Spending Score (1-100)').mean())\n",
    "print(\"\\n\\n############################################################################\\n\\n\")\n",
    "print(df1[df1['cluster_label']==3].groupby('Gender').mean())\n",
    "print(\"\\n\\n############################################################################\\n\\n\")"
   ]
  },
  {
   "cell_type": "code",
   "execution_count": 131,
   "metadata": {},
   "outputs": [
    {
     "name": "stdout",
     "output_type": "stream",
     "text": [
      "                 Gender        Age  Annual Income (k$)  Spending Score (1-100)\n",
      "cluster_label                                                                 \n",
      "4              0.391304  43.695652           26.304348               19.043478\n",
      "\n",
      "\n",
      "############################################################################\n",
      "\n",
      "\n",
      "       Gender  Annual Income (k$)  Spending Score (1-100)  cluster_label\n",
      "Age                                                                     \n",
      "20   0.500000                15.5                    20.0              4\n",
      "30   0.000000                17.0                    40.0              4\n",
      "35   0.400000                24.0                    22.0              4\n",
      "40   0.000000                31.5                    22.5              4\n",
      "45   0.200000                32.8                    21.0              4\n",
      "50   0.666667                28.0                    12.0              4\n",
      "55   0.000000                20.0                    15.0              4\n",
      "60   1.000000                24.5                     1.0              4\n",
      "65   0.500000                28.5                    22.5              4\n",
      "\n",
      "\n",
      "############################################################################\n",
      "\n",
      "\n",
      "                          Gender        Age  Annual Income (k$)  cluster_label\n",
      "Spending Score (1-100)                                                        \n",
      "1                       1.000000  56.666667           27.333333              4\n",
      "5                       0.000000  33.333333           19.666667              4\n",
      "10                      0.500000  48.750000           25.000000              4\n",
      "15                      0.000000  47.500000           27.000000              4\n",
      "25                      0.333333  43.333333           33.000000              4\n",
      "30                      0.000000  42.500000           28.500000              4\n",
      "35                      0.600000  40.000000           27.400000              4\n",
      "40                      0.000000  30.000000           17.000000              4\n",
      "\n",
      "\n",
      "############################################################################\n",
      "\n",
      "\n",
      "              Age  Annual Income (k$)  Spending Score (1-100)  cluster_label\n",
      "Gender                                                                      \n",
      "0       41.785714           27.357143               20.357143              4\n",
      "1       46.666667           24.666667               17.000000              4\n",
      "\n",
      "\n",
      "############################################################################\n",
      "\n",
      "\n"
     ]
    }
   ],
   "source": [
    "print(df1[df1['cluster_label']==4].groupby('cluster_label').mean())\n",
    "print(\"\\n\\n############################################################################\\n\\n\")\n",
    "print(df1[df1['cluster_label']==4].groupby('Age').mean())\n",
    "print(\"\\n\\n############################################################################\\n\\n\")\n",
    "print(df1[df1['cluster_label']==4].groupby('Spending Score (1-100)').mean())\n",
    "print(\"\\n\\n############################################################################\\n\\n\")\n",
    "print(df1[df1['cluster_label']==4].groupby('Gender').mean())\n",
    "print(\"\\n\\n############################################################################\\n\\n\")"
   ]
  },
  {
   "cell_type": "code",
   "execution_count": 132,
   "metadata": {},
   "outputs": [
    {
     "name": "stdout",
     "output_type": "stream",
     "text": [
      "                 Gender        Age  Annual Income (k$)  Spending Score (1-100)\n",
      "cluster_label                                                                 \n",
      "5              0.461538  30.769231           86.538462               80.128205\n",
      "\n",
      "\n",
      "############################################################################\n",
      "\n",
      "\n",
      "       Gender  Annual Income (k$)  Spending Score (1-100)  cluster_label\n",
      "Age                                                                     \n",
      "25   0.500000           85.125000               79.375000              5\n",
      "30   0.388889           87.833333               78.888889              5\n",
      "35   0.500000           86.833333               81.250000              5\n",
      "40   1.000000           71.000000               95.000000              5\n",
      "\n",
      "\n",
      "############################################################################\n",
      "\n",
      "\n",
      "                          Gender        Age  Annual Income (k$)  cluster_label\n",
      "Spending Score (1-100)                                                        \n",
      "60                      1.000000  30.000000           87.000000              5\n",
      "65                      0.666667  26.666667           97.333333              5\n",
      "70                      0.333333  30.833333           83.333333              5\n",
      "75                      0.375000  32.500000           82.500000              5\n",
      "80                      0.500000  27.500000          108.000000              5\n",
      "85                      0.125000  29.375000           86.375000              5\n",
      "90                      0.714286  32.857143           85.142857              5\n",
      "95                      0.750000  31.250000           83.250000              5\n",
      "\n",
      "\n",
      "############################################################################\n",
      "\n",
      "\n",
      "              Age  Annual Income (k$)  Spending Score (1-100)  cluster_label\n",
      "Gender                                                                      \n",
      "0       30.476190           86.047619               79.523810              5\n",
      "1       31.111111           87.111111               80.833333              5\n",
      "\n",
      "\n",
      "############################################################################\n",
      "\n",
      "\n"
     ]
    }
   ],
   "source": [
    "print(df1[df1['cluster_label']==5].groupby('cluster_label').mean())\n",
    "print(\"\\n\\n############################################################################\\n\\n\")\n",
    "print(df1[df1['cluster_label']==5].groupby('Age').mean())\n",
    "print(\"\\n\\n############################################################################\\n\\n\")\n",
    "print(df1[df1['cluster_label']==5].groupby('Spending Score (1-100)').mean())\n",
    "print(\"\\n\\n############################################################################\\n\\n\")\n",
    "print(df1[df1['cluster_label']==5].groupby('Gender').mean())\n",
    "print(\"\\n\\n############################################################################\\n\\n\")"
   ]
  },
  {
   "cell_type": "raw",
   "metadata": {},
   "source": [
    "After the analysis we can see that there are 5 different kinds of customers.\n",
    "1) Cluster 1: 1st category is of those customers in a young age group (20-35) avg age of 24. They have low annual income of $26K but there spending score is high. This contains more of females\n",
    "\n",
    "2) Cluster 2: 2nd category is of those customers diverse age group (20-65) avg age of 41. They have average annual income of $55K and there spending score is also average. This also contains more of females\n",
    "\n",
    "3) Cluster 3: 3rd category is of those customers diverse age group (20-55) avg age of 38. They have good annual income of $87K but there spending score is low. This contains more of males\n",
    "\n",
    "4) Cluster 4: 4th category is of those customers diverse age group (20-65) avg age of 43. They have low annual income of $26K and there spending score is also low. This contains more of females.\n",
    "\n",
    "5) Cluster 5: 5th category is of those customers diverse young group (20-40) avg age of 30. They have high annual income of $86K and there spending score is also high. This contains more of females but not large.\n",
    "\n",
    "\n",
    "Devised Strategies:\n",
    "\n",
    "1) Strategy for group 1: they have high spending score but low income so we should target them with cheaper products as they don't have the income to afford expensive products. \n",
    "\n",
    "2) Strategy for group 2: these people have average spending score and average incomes. We need to show them value in the product and give them some good deals.\n",
    "\n",
    "3) Strategy for group 3: these people have good income but low spending score. These are our potential customers who even have the power to spend. We need to come up with offers to make them spend (for instance buy 1 get 1 offers)\n",
    "\n",
    "4) Strategy for group 4: They have low income and their spending score is also low. I believe if we are running a limited campaign we can leave these customers as they neither have the spending power nor spending habit.\n",
    "\n",
    "5) Strategy for group 5: They have high income and high spending scores. These are our consistent customers and to keep them consistent we need to make them believe that we care for them, by giving loyalty points, 24x7 customer service, free return policies, b'day gifts etc."
   ]
  },
  {
   "cell_type": "code",
   "execution_count": 174,
   "metadata": {},
   "outputs": [
    {
     "data": {
      "text/html": [
       "<div>\n",
       "<style scoped>\n",
       "    .dataframe tbody tr th:only-of-type {\n",
       "        vertical-align: middle;\n",
       "    }\n",
       "\n",
       "    .dataframe tbody tr th {\n",
       "        vertical-align: top;\n",
       "    }\n",
       "\n",
       "    .dataframe thead th {\n",
       "        text-align: right;\n",
       "    }\n",
       "</style>\n",
       "<table border=\"1\" class=\"dataframe\">\n",
       "  <thead>\n",
       "    <tr style=\"text-align: right;\">\n",
       "      <th></th>\n",
       "      <th>CustomerID</th>\n",
       "      <th>Gender</th>\n",
       "      <th>Age</th>\n",
       "      <th>Annual Income (k$)</th>\n",
       "      <th>Spending Score (1-100)</th>\n",
       "      <th>cluster_label</th>\n",
       "    </tr>\n",
       "  </thead>\n",
       "  <tbody>\n",
       "    <tr>\n",
       "      <th>0</th>\n",
       "      <td>1</td>\n",
       "      <td>1</td>\n",
       "      <td>20</td>\n",
       "      <td>15</td>\n",
       "      <td>35</td>\n",
       "      <td>4</td>\n",
       "    </tr>\n",
       "    <tr>\n",
       "      <th>1</th>\n",
       "      <td>2</td>\n",
       "      <td>1</td>\n",
       "      <td>20</td>\n",
       "      <td>15</td>\n",
       "      <td>80</td>\n",
       "      <td>1</td>\n",
       "    </tr>\n",
       "    <tr>\n",
       "      <th>2</th>\n",
       "      <td>3</td>\n",
       "      <td>0</td>\n",
       "      <td>20</td>\n",
       "      <td>16</td>\n",
       "      <td>5</td>\n",
       "      <td>4</td>\n",
       "    </tr>\n",
       "    <tr>\n",
       "      <th>3</th>\n",
       "      <td>4</td>\n",
       "      <td>0</td>\n",
       "      <td>20</td>\n",
       "      <td>16</td>\n",
       "      <td>75</td>\n",
       "      <td>1</td>\n",
       "    </tr>\n",
       "    <tr>\n",
       "      <th>4</th>\n",
       "      <td>5</td>\n",
       "      <td>0</td>\n",
       "      <td>30</td>\n",
       "      <td>17</td>\n",
       "      <td>40</td>\n",
       "      <td>4</td>\n",
       "    </tr>\n",
       "  </tbody>\n",
       "</table>\n",
       "</div>"
      ],
      "text/plain": [
       "   CustomerID  Gender  Age  Annual Income (k$)  Spending Score (1-100)  \\\n",
       "0           1       1   20                  15                      35   \n",
       "1           2       1   20                  15                      80   \n",
       "2           3       0   20                  16                       5   \n",
       "3           4       0   20                  16                      75   \n",
       "4           5       0   30                  17                      40   \n",
       "\n",
       "   cluster_label  \n",
       "0              4  \n",
       "1              1  \n",
       "2              4  \n",
       "3              1  \n",
       "4              4  "
      ]
     },
     "execution_count": 174,
     "metadata": {},
     "output_type": "execute_result"
    }
   ],
   "source": [
    "segmented_customer_list = pd.concat([cust_id,df1],axis=1)\n",
    "segmented_customer_list.head(5)"
   ]
  },
  {
   "cell_type": "code",
   "execution_count": 152,
   "metadata": {},
   "outputs": [],
   "source": [
    "group1 = np.array(segmented_customer_list[segmented_customer_list['cluster_label']==1]['CustomerID'])\n",
    "group2 = np.array(segmented_customer_list[segmented_customer_list['cluster_label']==2]['CustomerID'])\n",
    "group3 = np.array(segmented_customer_list[segmented_customer_list['cluster_label']==3]['CustomerID'])\n",
    "group4 = np.array(segmented_customer_list[segmented_customer_list['cluster_label']==4]['CustomerID'])\n",
    "group5 = np.array(segmented_customer_list[segmented_customer_list['cluster_label']==5]['CustomerID'])"
   ]
  },
  {
   "cell_type": "raw",
   "metadata": {},
   "source": [
    "Now the marketing manager can access the list of each segment from these groups and send them curated customized offers based on the above strategies"
   ]
  },
  {
   "cell_type": "code",
   "execution_count": 171,
   "metadata": {},
   "outputs": [],
   "source": [
    "df['cluster_label'] = cluster_labels\n",
    "df['cluster_label'] = df1['cluster_label']+1\n",
    "df.to_csv('Segmented_Customers.csv')"
   ]
  },
  {
   "cell_type": "code",
   "execution_count": 172,
   "metadata": {},
   "outputs": [
    {
     "data": {
      "text/html": [
       "<div>\n",
       "<style scoped>\n",
       "    .dataframe tbody tr th:only-of-type {\n",
       "        vertical-align: middle;\n",
       "    }\n",
       "\n",
       "    .dataframe tbody tr th {\n",
       "        vertical-align: top;\n",
       "    }\n",
       "\n",
       "    .dataframe thead th {\n",
       "        text-align: right;\n",
       "    }\n",
       "</style>\n",
       "<table border=\"1\" class=\"dataframe\">\n",
       "  <thead>\n",
       "    <tr style=\"text-align: right;\">\n",
       "      <th></th>\n",
       "      <th>CustomerID</th>\n",
       "      <th>Gender</th>\n",
       "      <th>Age</th>\n",
       "      <th>Annual Income (k$)</th>\n",
       "      <th>Spending Score (1-100)</th>\n",
       "      <th>cluster_label</th>\n",
       "    </tr>\n",
       "  </thead>\n",
       "  <tbody>\n",
       "    <tr>\n",
       "      <th>0</th>\n",
       "      <td>1</td>\n",
       "      <td>Male</td>\n",
       "      <td>19</td>\n",
       "      <td>15</td>\n",
       "      <td>39</td>\n",
       "      <td>5</td>\n",
       "    </tr>\n",
       "    <tr>\n",
       "      <th>1</th>\n",
       "      <td>2</td>\n",
       "      <td>Male</td>\n",
       "      <td>21</td>\n",
       "      <td>15</td>\n",
       "      <td>81</td>\n",
       "      <td>2</td>\n",
       "    </tr>\n",
       "    <tr>\n",
       "      <th>2</th>\n",
       "      <td>3</td>\n",
       "      <td>Female</td>\n",
       "      <td>20</td>\n",
       "      <td>16</td>\n",
       "      <td>6</td>\n",
       "      <td>5</td>\n",
       "    </tr>\n",
       "    <tr>\n",
       "      <th>3</th>\n",
       "      <td>4</td>\n",
       "      <td>Female</td>\n",
       "      <td>23</td>\n",
       "      <td>16</td>\n",
       "      <td>77</td>\n",
       "      <td>2</td>\n",
       "    </tr>\n",
       "    <tr>\n",
       "      <th>4</th>\n",
       "      <td>5</td>\n",
       "      <td>Female</td>\n",
       "      <td>31</td>\n",
       "      <td>17</td>\n",
       "      <td>40</td>\n",
       "      <td>5</td>\n",
       "    </tr>\n",
       "    <tr>\n",
       "      <th>5</th>\n",
       "      <td>6</td>\n",
       "      <td>Female</td>\n",
       "      <td>22</td>\n",
       "      <td>17</td>\n",
       "      <td>76</td>\n",
       "      <td>2</td>\n",
       "    </tr>\n",
       "    <tr>\n",
       "      <th>6</th>\n",
       "      <td>7</td>\n",
       "      <td>Female</td>\n",
       "      <td>35</td>\n",
       "      <td>18</td>\n",
       "      <td>6</td>\n",
       "      <td>5</td>\n",
       "    </tr>\n",
       "  </tbody>\n",
       "</table>\n",
       "</div>"
      ],
      "text/plain": [
       "   CustomerID  Gender  Age  Annual Income (k$)  Spending Score (1-100)  \\\n",
       "0           1    Male   19                  15                      39   \n",
       "1           2    Male   21                  15                      81   \n",
       "2           3  Female   20                  16                       6   \n",
       "3           4  Female   23                  16                      77   \n",
       "4           5  Female   31                  17                      40   \n",
       "5           6  Female   22                  17                      76   \n",
       "6           7  Female   35                  18                       6   \n",
       "\n",
       "   cluster_label  \n",
       "0              5  \n",
       "1              2  \n",
       "2              5  \n",
       "3              2  \n",
       "4              5  \n",
       "5              2  \n",
       "6              5  "
      ]
     },
     "execution_count": 172,
     "metadata": {},
     "output_type": "execute_result"
    }
   ],
   "source": [
    "df.head(7)"
   ]
  },
  {
   "cell_type": "code",
   "execution_count": null,
   "metadata": {},
   "outputs": [],
   "source": []
  }
 ],
 "metadata": {
  "kernelspec": {
   "display_name": "Python 3",
   "language": "python",
   "name": "python3"
  },
  "language_info": {
   "codemirror_mode": {
    "name": "ipython",
    "version": 3
   },
   "file_extension": ".py",
   "mimetype": "text/x-python",
   "name": "python",
   "nbconvert_exporter": "python",
   "pygments_lexer": "ipython3",
   "version": "3.7.1"
  }
 },
 "nbformat": 4,
 "nbformat_minor": 2
}
